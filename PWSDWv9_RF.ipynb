{
  "nbformat": 4,
  "nbformat_minor": 0,
  "metadata": {
    "colab": {
      "name": "PWSDWv9-RF.ipynb",
      "provenance": []
    },
    "kernelspec": {
      "name": "python3",
      "display_name": "Python 3"
    },
    "language_info": {
      "name": "python"
    }
  },
  "cells": [
    {
      "cell_type": "markdown",
      "source": [
        "# Get the Data"
      ],
      "metadata": {
        "id": "Rss_3HkWuF7c"
      }
    },
    {
      "cell_type": "code",
      "source": [
        "import pandas as pd\n",
        "data = pd.read_csv(\"https://github.com/CAWaterBoardDataCenter/DDW-Drought-Priortization-2022/raw/main/DroughtWatchPrioritization_v9_input_data.csv\", header =0)"
      ],
      "metadata": {
        "id": "wRtptoD1uKAu"
      },
      "execution_count": null,
      "outputs": []
    },
    {
      "cell_type": "code",
      "source": [
        "data.info()"
      ],
      "metadata": {
        "id": "lYjo9GNIuco8",
        "colab": {
          "base_uri": "https://localhost:8080/"
        },
        "outputId": "4c574728-3bd9-498a-8599-662336706e54"
      },
      "execution_count": null,
      "outputs": [
        {
          "output_type": "stream",
          "name": "stdout",
          "text": [
            "<class 'pandas.core.frame.DataFrame'>\n",
            "RangeIndex: 2866 entries, 0 to 2865\n",
            "Data columns (total 35 columns):\n",
            " #   Column                                       Non-Null Count  Dtype  \n",
            "---  ------                                       --------------  -----  \n",
            " 0   ServiceConnections                           2866 non-null   int64  \n",
            " 1   Population                                   2866 non-null   int64  \n",
            " 2   Score_SourceNumber                           2866 non-null   float64\n",
            " 3   Score_SourceCapacityViolations               2866 non-null   object \n",
            " 4   Score_SCM                                    2866 non-null   object \n",
            " 5   Score_CriticallyOverdraftedGroundwaterBasin  2866 non-null   object \n",
            " 6   CDAG_rank                                    2866 non-null   int64  \n",
            " 7   Curtailment                                  2866 non-null   object \n",
            " 8   Score_1702                                   2866 non-null   int64  \n",
            " 9   Score_1705                                   2866 non-null   int64  \n",
            " 10  Score_1706                                   2866 non-null   int64  \n",
            " 11  Score_1812                                   2866 non-null   int64  \n",
            " 12  Score_1813                                   2866 non-null   int64  \n",
            " 13  Score_1814                                   2866 non-null   int64  \n",
            " 14  Score_1815                                   2866 non-null   int64  \n",
            " 15  EAR2020DroughtRiskScore                      2866 non-null   int64  \n",
            " 16  SAFER_AccessibilityScore                     2866 non-null   float64\n",
            " 17  Lat                                          2866 non-null   float64\n",
            " 18  Long                                         2866 non-null   float64\n",
            " 19  County                                       2866 non-null   object \n",
            " 20  DSCI3WYAvg                                   2866 non-null   float64\n",
            " 21  ActiveGWSource                               2866 non-null   int64  \n",
            " 22  ActiveSWSource                               2866 non-null   int64  \n",
            " 23  CurtailedWatershed                           2866 non-null   object \n",
            " 24  HUC4                                         2866 non-null   int64  \n",
            " 25  HUC8                                         2866 non-null   object \n",
            " 26  Basin_Number_part1                           2866 non-null   object \n",
            " 27  FracturedRock                                2866 non-null   object \n",
            " 28  Basin12                                      2866 non-null   object \n",
            " 29  Basin34                                      2866 non-null   object \n",
            " 30  Basin5                                       2866 non-null   object \n",
            " 31  Basin6                                       2866 non-null   object \n",
            " 32  Basin789                                     2866 non-null   object \n",
            " 33  Intertie                                     2866 non-null   object \n",
            " 34  DroughtExperienced                           2866 non-null   int64  \n",
            "dtypes: float64(5), int64(15), object(15)\n",
            "memory usage: 783.8+ KB\n"
          ]
        }
      ]
    },
    {
      "cell_type": "code",
      "source": [
        "data[\"DroughtExperienced\"].value_counts()"
      ],
      "metadata": {
        "colab": {
          "base_uri": "https://localhost:8080/"
        },
        "id": "LZQxaMF0uqPs",
        "outputId": "92c306e1-5152-4a43-8b3c-9f813f34a727"
      },
      "execution_count": null,
      "outputs": [
        {
          "output_type": "execute_result",
          "data": {
            "text/plain": [
              "0    2710\n",
              "1     156\n",
              "Name: DroughtExperienced, dtype: int64"
            ]
          },
          "metadata": {},
          "execution_count": 4
        }
      ]
    },
    {
      "cell_type": "code",
      "source": [
        "# Common imports\n",
        "import numpy as np\n",
        "import os"
      ],
      "metadata": {
        "id": "SF389gXauxIH"
      },
      "execution_count": null,
      "outputs": []
    },
    {
      "cell_type": "code",
      "source": [
        "# Separate input features and target\n",
        "data_labels = data[\"DroughtExperienced\"]\n",
        "\n",
        "# Dropping not needed columns\n",
        "data = data.drop([\"DroughtExperienced\"], axis=1)\n"
      ],
      "metadata": {
        "id": "Luuj5QTyvIJa"
      },
      "execution_count": null,
      "outputs": []
    },
    {
      "cell_type": "code",
      "source": [
        "data.info()"
      ],
      "metadata": {
        "colab": {
          "base_uri": "https://localhost:8080/"
        },
        "id": "A6bj4Aj_v49Z",
        "outputId": "163abf5e-022d-411e-829e-db379250f6fd"
      },
      "execution_count": null,
      "outputs": [
        {
          "output_type": "stream",
          "name": "stdout",
          "text": [
            "<class 'pandas.core.frame.DataFrame'>\n",
            "RangeIndex: 2866 entries, 0 to 2865\n",
            "Data columns (total 34 columns):\n",
            " #   Column                                       Non-Null Count  Dtype  \n",
            "---  ------                                       --------------  -----  \n",
            " 0   ServiceConnections                           2866 non-null   int64  \n",
            " 1   Population                                   2866 non-null   int64  \n",
            " 2   Score_SourceNumber                           2866 non-null   float64\n",
            " 3   Score_SourceCapacityViolations               2866 non-null   object \n",
            " 4   Score_SCM                                    2866 non-null   object \n",
            " 5   Score_CriticallyOverdraftedGroundwaterBasin  2866 non-null   object \n",
            " 6   CDAG_rank                                    2866 non-null   int64  \n",
            " 7   Curtailment                                  2866 non-null   object \n",
            " 8   Score_1702                                   2866 non-null   int64  \n",
            " 9   Score_1705                                   2866 non-null   int64  \n",
            " 10  Score_1706                                   2866 non-null   int64  \n",
            " 11  Score_1812                                   2866 non-null   int64  \n",
            " 12  Score_1813                                   2866 non-null   int64  \n",
            " 13  Score_1814                                   2866 non-null   int64  \n",
            " 14  Score_1815                                   2866 non-null   int64  \n",
            " 15  EAR2020DroughtRiskScore                      2866 non-null   int64  \n",
            " 16  SAFER_AccessibilityScore                     2866 non-null   float64\n",
            " 17  Lat                                          2866 non-null   float64\n",
            " 18  Long                                         2866 non-null   float64\n",
            " 19  County                                       2866 non-null   object \n",
            " 20  DSCI3WYAvg                                   2866 non-null   float64\n",
            " 21  ActiveGWSource                               2866 non-null   int64  \n",
            " 22  ActiveSWSource                               2866 non-null   int64  \n",
            " 23  CurtailedWatershed                           2866 non-null   object \n",
            " 24  HUC4                                         2866 non-null   int64  \n",
            " 25  HUC8                                         2866 non-null   object \n",
            " 26  Basin_Number_part1                           2866 non-null   object \n",
            " 27  FracturedRock                                2866 non-null   object \n",
            " 28  Basin12                                      2866 non-null   object \n",
            " 29  Basin34                                      2866 non-null   object \n",
            " 30  Basin5                                       2866 non-null   object \n",
            " 31  Basin6                                       2866 non-null   object \n",
            " 32  Basin789                                     2866 non-null   object \n",
            " 33  Intertie                                     2866 non-null   object \n",
            "dtypes: float64(5), int64(14), object(15)\n",
            "memory usage: 761.4+ KB\n"
          ]
        }
      ]
    },
    {
      "cell_type": "code",
      "source": [
        "data_labels"
      ],
      "metadata": {
        "colab": {
          "base_uri": "https://localhost:8080/"
        },
        "id": "YginhEUKwE4I",
        "outputId": "7085955b-ae26-4bef-cd92-d6e8b21058a9"
      },
      "execution_count": null,
      "outputs": [
        {
          "output_type": "execute_result",
          "data": {
            "text/plain": [
              "0       0\n",
              "1       0\n",
              "2       0\n",
              "3       0\n",
              "4       0\n",
              "       ..\n",
              "2861    0\n",
              "2862    0\n",
              "2863    0\n",
              "2864    0\n",
              "2865    0\n",
              "Name: DroughtExperienced, Length: 2866, dtype: int64"
            ]
          },
          "metadata": {},
          "execution_count": 8
        }
      ]
    },
    {
      "cell_type": "code",
      "source": [
        "data_num = data.select_dtypes(include=[np.number])"
      ],
      "metadata": {
        "id": "QmV5AT-R3K6v"
      },
      "execution_count": null,
      "outputs": []
    },
    {
      "cell_type": "markdown",
      "source": [
        "Now let's drop some outliers:"
      ],
      "metadata": {
        "id": "LpZtLUL0x3P8"
      }
    },
    {
      "cell_type": "code",
      "source": [
        "#from sklearn.ensemble import IsolationForest\n",
        "\n",
        "#isolation_forest = IsolationForest(random_state=42)\n",
        "#outlier_pred = isolation_forest.fit_predict(data_num)"
      ],
      "metadata": {
        "id": "kl6YRxw0x-Ce"
      },
      "execution_count": null,
      "outputs": []
    },
    {
      "cell_type": "code",
      "source": [
        "#outlier_pred"
      ],
      "metadata": {
        "colab": {
          "base_uri": "https://localhost:8080/"
        },
        "id": "ayYACkZpyI75",
        "outputId": "db6811da-101f-43f4-c0be-51ef8ff614af"
      },
      "execution_count": null,
      "outputs": [
        {
          "output_type": "execute_result",
          "data": {
            "text/plain": [
              "array([ 1,  1,  1, ..., -1, -1,  1])"
            ]
          },
          "metadata": {},
          "execution_count": 10
        }
      ]
    },
    {
      "cell_type": "code",
      "source": [
        "#data = data.iloc[outlier_pred == 1]\n",
        "#data_labels = data_labels.iloc[outlier_pred == 1]"
      ],
      "metadata": {
        "id": "txgkCxJmyWEW"
      },
      "execution_count": null,
      "outputs": []
    },
    {
      "cell_type": "code",
      "source": [
        "#data.info()"
      ],
      "metadata": {
        "id": "VP1tNSyNyYNM"
      },
      "execution_count": null,
      "outputs": []
    },
    {
      "cell_type": "code",
      "source": [
        "#data_labels"
      ],
      "metadata": {
        "colab": {
          "base_uri": "https://localhost:8080/"
        },
        "id": "J9q1fvhIycGl",
        "outputId": "d08d9363-f0cc-4fad-d2fc-0d98e35045ab"
      },
      "execution_count": null,
      "outputs": [
        {
          "output_type": "execute_result",
          "data": {
            "text/plain": [
              "0       0\n",
              "1       0\n",
              "2       0\n",
              "3       0\n",
              "4       0\n",
              "       ..\n",
              "2861    0\n",
              "2862    0\n",
              "2863    0\n",
              "2864    0\n",
              "2865    0\n",
              "Name: DroughtExperienced, Length: 2866, dtype: int64"
            ]
          },
          "metadata": {},
          "execution_count": 13
        }
      ]
    },
    {
      "cell_type": "code",
      "source": [
        "data_num.info()"
      ],
      "metadata": {
        "colab": {
          "base_uri": "https://localhost:8080/"
        },
        "id": "gsq75cCvynvQ",
        "outputId": "207f0b88-fc4d-426f-e56c-44b3fa81fd2d"
      },
      "execution_count": null,
      "outputs": [
        {
          "output_type": "stream",
          "name": "stdout",
          "text": [
            "<class 'pandas.core.frame.DataFrame'>\n",
            "RangeIndex: 2866 entries, 0 to 2865\n",
            "Data columns (total 19 columns):\n",
            " #   Column                    Non-Null Count  Dtype  \n",
            "---  ------                    --------------  -----  \n",
            " 0   ServiceConnections        2866 non-null   int64  \n",
            " 1   Population                2866 non-null   int64  \n",
            " 2   Score_SourceNumber        2866 non-null   float64\n",
            " 3   CDAG_rank                 2866 non-null   int64  \n",
            " 4   Score_1702                2866 non-null   int64  \n",
            " 5   Score_1705                2866 non-null   int64  \n",
            " 6   Score_1706                2866 non-null   int64  \n",
            " 7   Score_1812                2866 non-null   int64  \n",
            " 8   Score_1813                2866 non-null   int64  \n",
            " 9   Score_1814                2866 non-null   int64  \n",
            " 10  Score_1815                2866 non-null   int64  \n",
            " 11  EAR2020DroughtRiskScore   2866 non-null   int64  \n",
            " 12  SAFER_AccessibilityScore  2866 non-null   float64\n",
            " 13  Lat                       2866 non-null   float64\n",
            " 14  Long                      2866 non-null   float64\n",
            " 15  DSCI3WYAvg                2866 non-null   float64\n",
            " 16  ActiveGWSource            2866 non-null   int64  \n",
            " 17  ActiveSWSource            2866 non-null   int64  \n",
            " 18  HUC4                      2866 non-null   int64  \n",
            "dtypes: float64(5), int64(14)\n",
            "memory usage: 425.5 KB\n"
          ]
        }
      ]
    },
    {
      "cell_type": "code",
      "source": [
        "data_cat = data.select_dtypes(include=[np.object])"
      ],
      "metadata": {
        "colab": {
          "base_uri": "https://localhost:8080/"
        },
        "id": "tCwyol3nzCd3",
        "outputId": "41e88cb8-ab4c-484c-e04c-6594b444aeff"
      },
      "execution_count": null,
      "outputs": [
        {
          "output_type": "stream",
          "name": "stderr",
          "text": [
            "/usr/local/lib/python3.7/dist-packages/ipykernel_launcher.py:1: DeprecationWarning: `np.object` is a deprecated alias for the builtin `object`. To silence this warning, use `object` by itself. Doing this will not modify any behavior and is safe. \n",
            "Deprecated in NumPy 1.20; for more details and guidance: https://numpy.org/devdocs/release/1.20.0-notes.html#deprecations\n",
            "  \"\"\"Entry point for launching an IPython kernel.\n"
          ]
        }
      ]
    },
    {
      "cell_type": "code",
      "source": [
        "data_cat.info()"
      ],
      "metadata": {
        "colab": {
          "base_uri": "https://localhost:8080/"
        },
        "id": "9EtaVX4WzKgs",
        "outputId": "979143a7-393b-444a-d5be-287d54e7ca73"
      },
      "execution_count": null,
      "outputs": [
        {
          "output_type": "stream",
          "name": "stdout",
          "text": [
            "<class 'pandas.core.frame.DataFrame'>\n",
            "RangeIndex: 2866 entries, 0 to 2865\n",
            "Data columns (total 15 columns):\n",
            " #   Column                                       Non-Null Count  Dtype \n",
            "---  ------                                       --------------  ----- \n",
            " 0   Score_SourceCapacityViolations               2866 non-null   object\n",
            " 1   Score_SCM                                    2866 non-null   object\n",
            " 2   Score_CriticallyOverdraftedGroundwaterBasin  2866 non-null   object\n",
            " 3   Curtailment                                  2866 non-null   object\n",
            " 4   County                                       2866 non-null   object\n",
            " 5   CurtailedWatershed                           2866 non-null   object\n",
            " 6   HUC8                                         2866 non-null   object\n",
            " 7   Basin_Number_part1                           2866 non-null   object\n",
            " 8   FracturedRock                                2866 non-null   object\n",
            " 9   Basin12                                      2866 non-null   object\n",
            " 10  Basin34                                      2866 non-null   object\n",
            " 11  Basin5                                       2866 non-null   object\n",
            " 12  Basin6                                       2866 non-null   object\n",
            " 13  Basin789                                     2866 non-null   object\n",
            " 14  Intertie                                     2866 non-null   object\n",
            "dtypes: object(15)\n",
            "memory usage: 336.0+ KB\n"
          ]
        }
      ]
    },
    {
      "cell_type": "code",
      "source": [
        "from sklearn.compose import ColumnTransformer\n",
        "num_attribs = list(data_num)\n",
        "\n",
        "cat_attribs = list(data_cat)\n"
      ],
      "metadata": {
        "id": "B7wFu8wSzgR9"
      },
      "execution_count": null,
      "outputs": []
    },
    {
      "cell_type": "code",
      "source": [
        "from sklearn.preprocessing import StandardScaler\n",
        "\n",
        "from sklearn.preprocessing import OneHotEncoder\n",
        "\n",
        "full_pipeline = ColumnTransformer([\n",
        "        (\"num\", StandardScaler(), num_attribs),\n",
        "        (\"cat\", OneHotEncoder(), cat_attribs),\n",
        "    ])\n",
        "\n",
        "data_prepared = full_pipeline.fit_transform(data)\n",
        "data_prepared"
      ],
      "metadata": {
        "colab": {
          "base_uri": "https://localhost:8080/"
        },
        "id": "KfZYmIR0ztYm",
        "outputId": "da69fe5d-250f-447d-e500-dfcfd585982e"
      },
      "execution_count": null,
      "outputs": [
        {
          "output_type": "execute_result",
          "data": {
            "text/plain": [
              "<2866x476 sparse matrix of type '<class 'numpy.float64'>'\n",
              "\twith 83114 stored elements in Compressed Sparse Row format>"
            ]
          },
          "metadata": {},
          "execution_count": 18
        }
      ]
    },
    {
      "cell_type": "code",
      "source": [
        "data_labels"
      ],
      "metadata": {
        "colab": {
          "base_uri": "https://localhost:8080/"
        },
        "id": "hLq0Ehmu0Vyh",
        "outputId": "78fe871d-ac74-4e57-fa38-c075f7730305"
      },
      "execution_count": null,
      "outputs": [
        {
          "output_type": "execute_result",
          "data": {
            "text/plain": [
              "0       0\n",
              "1       0\n",
              "2       0\n",
              "3       0\n",
              "4       0\n",
              "       ..\n",
              "2861    0\n",
              "2862    0\n",
              "2863    0\n",
              "2864    0\n",
              "2865    0\n",
              "Name: DroughtExperienced, Length: 2866, dtype: int64"
            ]
          },
          "metadata": {},
          "execution_count": 19
        }
      ]
    },
    {
      "cell_type": "code",
      "source": [
        "from imblearn.over_sampling import SMOTE\n",
        "sm = SMOTE(random_state=42)\n",
        "X, y = sm.fit_resample(data_prepared, data_labels)\n",
        "X.shape, y.shape"
      ],
      "metadata": {
        "colab": {
          "base_uri": "https://localhost:8080/"
        },
        "id": "DH_B9CGr0dT8",
        "outputId": "2fb7b410-8c83-4a6d-edb1-e96c41385345"
      },
      "execution_count": null,
      "outputs": [
        {
          "output_type": "execute_result",
          "data": {
            "text/plain": [
              "((5420, 476), (5420,))"
            ]
          },
          "metadata": {},
          "execution_count": 20
        }
      ]
    },
    {
      "cell_type": "code",
      "source": [
        "y = pd.DataFrame(y, columns = ['DroughtExperienced'])\n",
        "y.DroughtExperienced.value_counts()"
      ],
      "metadata": {
        "colab": {
          "base_uri": "https://localhost:8080/"
        },
        "id": "ekqHm8FG0nlG",
        "outputId": "baa303a4-e4c3-4481-a128-5e60bcf8818c"
      },
      "execution_count": null,
      "outputs": [
        {
          "output_type": "execute_result",
          "data": {
            "text/plain": [
              "0    2710\n",
              "1    2710\n",
              "Name: DroughtExperienced, dtype: int64"
            ]
          },
          "metadata": {},
          "execution_count": 21
        }
      ]
    },
    {
      "cell_type": "code",
      "source": [
        "from sklearn.model_selection import train_test_split\n",
        "#X_train, X_test = train_test_split(\n",
        "#    X, test_size=0.2,  random_state=42)"
      ],
      "metadata": {
        "id": "klgq1gRn03Of"
      },
      "execution_count": null,
      "outputs": []
    },
    {
      "cell_type": "code",
      "source": [
        "X_train, X_test, y_train, y_test = train_test_split(X, \\\n",
        "                                                    y, \\\n",
        "                                                    test_size=0.2,\n",
        "                                                   random_state=42)"
      ],
      "metadata": {
        "id": "-LLUk2p8me2I"
      },
      "execution_count": null,
      "outputs": []
    },
    {
      "cell_type": "code",
      "source": [
        "X_train"
      ],
      "metadata": {
        "colab": {
          "base_uri": "https://localhost:8080/"
        },
        "id": "VVfXcq6H1DjB",
        "outputId": "5bea1fa3-1bec-43c9-c177-d0f57fa0bd0a"
      },
      "execution_count": null,
      "outputs": [
        {
          "output_type": "execute_result",
          "data": {
            "text/plain": [
              "<4336x476 sparse matrix of type '<class 'numpy.float64'>'\n",
              "\twith 132785 stored elements in Compressed Sparse Row format>"
            ]
          },
          "metadata": {},
          "execution_count": 24
        }
      ]
    },
    {
      "cell_type": "code",
      "source": [
        "X_test"
      ],
      "metadata": {
        "colab": {
          "base_uri": "https://localhost:8080/"
        },
        "id": "ARJX5KuT1Imt",
        "outputId": "69e78c7b-a9dd-41ce-e433-7809ed2f37db"
      },
      "execution_count": null,
      "outputs": [
        {
          "output_type": "execute_result",
          "data": {
            "text/plain": [
              "<1084x476 sparse matrix of type '<class 'numpy.float64'>'\n",
              "\twith 33168 stored elements in Compressed Sparse Row format>"
            ]
          },
          "metadata": {},
          "execution_count": 25
        }
      ]
    },
    {
      "cell_type": "code",
      "source": [
        "#y_train, y_test = train_test_split(\n",
        "#    y, test_size=0.2,  random_state=42)"
      ],
      "metadata": {
        "id": "VSc0UiNP1TAd"
      },
      "execution_count": null,
      "outputs": []
    },
    {
      "cell_type": "code",
      "source": [
        "y_train"
      ],
      "metadata": {
        "colab": {
          "base_uri": "https://localhost:8080/",
          "height": 424
        },
        "id": "drZu8JYH1WzU",
        "outputId": "846c6f83-5d6f-453e-d084-732d795abeb0"
      },
      "execution_count": null,
      "outputs": [
        {
          "output_type": "execute_result",
          "data": {
            "text/plain": [
              "      DroughtExperienced\n",
              "3032                   1\n",
              "1231                   0\n",
              "1586                   0\n",
              "4676                   1\n",
              "1370                   0\n",
              "...                  ...\n",
              "3772                   1\n",
              "5191                   1\n",
              "5226                   1\n",
              "5390                   1\n",
              "860                    0\n",
              "\n",
              "[4336 rows x 1 columns]"
            ],
            "text/html": [
              "\n",
              "  <div id=\"df-f01e93d8-48b0-4d09-8e72-1bab901c3152\">\n",
              "    <div class=\"colab-df-container\">\n",
              "      <div>\n",
              "<style scoped>\n",
              "    .dataframe tbody tr th:only-of-type {\n",
              "        vertical-align: middle;\n",
              "    }\n",
              "\n",
              "    .dataframe tbody tr th {\n",
              "        vertical-align: top;\n",
              "    }\n",
              "\n",
              "    .dataframe thead th {\n",
              "        text-align: right;\n",
              "    }\n",
              "</style>\n",
              "<table border=\"1\" class=\"dataframe\">\n",
              "  <thead>\n",
              "    <tr style=\"text-align: right;\">\n",
              "      <th></th>\n",
              "      <th>DroughtExperienced</th>\n",
              "    </tr>\n",
              "  </thead>\n",
              "  <tbody>\n",
              "    <tr>\n",
              "      <th>3032</th>\n",
              "      <td>1</td>\n",
              "    </tr>\n",
              "    <tr>\n",
              "      <th>1231</th>\n",
              "      <td>0</td>\n",
              "    </tr>\n",
              "    <tr>\n",
              "      <th>1586</th>\n",
              "      <td>0</td>\n",
              "    </tr>\n",
              "    <tr>\n",
              "      <th>4676</th>\n",
              "      <td>1</td>\n",
              "    </tr>\n",
              "    <tr>\n",
              "      <th>1370</th>\n",
              "      <td>0</td>\n",
              "    </tr>\n",
              "    <tr>\n",
              "      <th>...</th>\n",
              "      <td>...</td>\n",
              "    </tr>\n",
              "    <tr>\n",
              "      <th>3772</th>\n",
              "      <td>1</td>\n",
              "    </tr>\n",
              "    <tr>\n",
              "      <th>5191</th>\n",
              "      <td>1</td>\n",
              "    </tr>\n",
              "    <tr>\n",
              "      <th>5226</th>\n",
              "      <td>1</td>\n",
              "    </tr>\n",
              "    <tr>\n",
              "      <th>5390</th>\n",
              "      <td>1</td>\n",
              "    </tr>\n",
              "    <tr>\n",
              "      <th>860</th>\n",
              "      <td>0</td>\n",
              "    </tr>\n",
              "  </tbody>\n",
              "</table>\n",
              "<p>4336 rows × 1 columns</p>\n",
              "</div>\n",
              "      <button class=\"colab-df-convert\" onclick=\"convertToInteractive('df-f01e93d8-48b0-4d09-8e72-1bab901c3152')\"\n",
              "              title=\"Convert this dataframe to an interactive table.\"\n",
              "              style=\"display:none;\">\n",
              "        \n",
              "  <svg xmlns=\"http://www.w3.org/2000/svg\" height=\"24px\"viewBox=\"0 0 24 24\"\n",
              "       width=\"24px\">\n",
              "    <path d=\"M0 0h24v24H0V0z\" fill=\"none\"/>\n",
              "    <path d=\"M18.56 5.44l.94 2.06.94-2.06 2.06-.94-2.06-.94-.94-2.06-.94 2.06-2.06.94zm-11 1L8.5 8.5l.94-2.06 2.06-.94-2.06-.94L8.5 2.5l-.94 2.06-2.06.94zm10 10l.94 2.06.94-2.06 2.06-.94-2.06-.94-.94-2.06-.94 2.06-2.06.94z\"/><path d=\"M17.41 7.96l-1.37-1.37c-.4-.4-.92-.59-1.43-.59-.52 0-1.04.2-1.43.59L10.3 9.45l-7.72 7.72c-.78.78-.78 2.05 0 2.83L4 21.41c.39.39.9.59 1.41.59.51 0 1.02-.2 1.41-.59l7.78-7.78 2.81-2.81c.8-.78.8-2.07 0-2.86zM5.41 20L4 18.59l7.72-7.72 1.47 1.35L5.41 20z\"/>\n",
              "  </svg>\n",
              "      </button>\n",
              "      \n",
              "  <style>\n",
              "    .colab-df-container {\n",
              "      display:flex;\n",
              "      flex-wrap:wrap;\n",
              "      gap: 12px;\n",
              "    }\n",
              "\n",
              "    .colab-df-convert {\n",
              "      background-color: #E8F0FE;\n",
              "      border: none;\n",
              "      border-radius: 50%;\n",
              "      cursor: pointer;\n",
              "      display: none;\n",
              "      fill: #1967D2;\n",
              "      height: 32px;\n",
              "      padding: 0 0 0 0;\n",
              "      width: 32px;\n",
              "    }\n",
              "\n",
              "    .colab-df-convert:hover {\n",
              "      background-color: #E2EBFA;\n",
              "      box-shadow: 0px 1px 2px rgba(60, 64, 67, 0.3), 0px 1px 3px 1px rgba(60, 64, 67, 0.15);\n",
              "      fill: #174EA6;\n",
              "    }\n",
              "\n",
              "    [theme=dark] .colab-df-convert {\n",
              "      background-color: #3B4455;\n",
              "      fill: #D2E3FC;\n",
              "    }\n",
              "\n",
              "    [theme=dark] .colab-df-convert:hover {\n",
              "      background-color: #434B5C;\n",
              "      box-shadow: 0px 1px 3px 1px rgba(0, 0, 0, 0.15);\n",
              "      filter: drop-shadow(0px 1px 2px rgba(0, 0, 0, 0.3));\n",
              "      fill: #FFFFFF;\n",
              "    }\n",
              "  </style>\n",
              "\n",
              "      <script>\n",
              "        const buttonEl =\n",
              "          document.querySelector('#df-f01e93d8-48b0-4d09-8e72-1bab901c3152 button.colab-df-convert');\n",
              "        buttonEl.style.display =\n",
              "          google.colab.kernel.accessAllowed ? 'block' : 'none';\n",
              "\n",
              "        async function convertToInteractive(key) {\n",
              "          const element = document.querySelector('#df-f01e93d8-48b0-4d09-8e72-1bab901c3152');\n",
              "          const dataTable =\n",
              "            await google.colab.kernel.invokeFunction('convertToInteractive',\n",
              "                                                     [key], {});\n",
              "          if (!dataTable) return;\n",
              "\n",
              "          const docLinkHtml = 'Like what you see? Visit the ' +\n",
              "            '<a target=\"_blank\" href=https://colab.research.google.com/notebooks/data_table.ipynb>data table notebook</a>'\n",
              "            + ' to learn more about interactive tables.';\n",
              "          element.innerHTML = '';\n",
              "          dataTable['output_type'] = 'display_data';\n",
              "          await google.colab.output.renderOutput(dataTable, element);\n",
              "          const docLink = document.createElement('div');\n",
              "          docLink.innerHTML = docLinkHtml;\n",
              "          element.appendChild(docLink);\n",
              "        }\n",
              "      </script>\n",
              "    </div>\n",
              "  </div>\n",
              "  "
            ]
          },
          "metadata": {},
          "execution_count": 27
        }
      ]
    },
    {
      "cell_type": "code",
      "source": [
        "y_test"
      ],
      "metadata": {
        "colab": {
          "base_uri": "https://localhost:8080/",
          "height": 424
        },
        "id": "k2gHcZnl1drC",
        "outputId": "747a4702-3a18-47e8-fd6e-ea3731d18743"
      },
      "execution_count": null,
      "outputs": [
        {
          "output_type": "execute_result",
          "data": {
            "text/plain": [
              "      DroughtExperienced\n",
              "4417                   1\n",
              "1538                   0\n",
              "315                    0\n",
              "297                    0\n",
              "4946                   1\n",
              "...                  ...\n",
              "75                     0\n",
              "1776                   0\n",
              "2981                   1\n",
              "3648                   1\n",
              "3895                   1\n",
              "\n",
              "[1084 rows x 1 columns]"
            ],
            "text/html": [
              "\n",
              "  <div id=\"df-1af74667-0ea6-47ce-8017-94be8e656fdf\">\n",
              "    <div class=\"colab-df-container\">\n",
              "      <div>\n",
              "<style scoped>\n",
              "    .dataframe tbody tr th:only-of-type {\n",
              "        vertical-align: middle;\n",
              "    }\n",
              "\n",
              "    .dataframe tbody tr th {\n",
              "        vertical-align: top;\n",
              "    }\n",
              "\n",
              "    .dataframe thead th {\n",
              "        text-align: right;\n",
              "    }\n",
              "</style>\n",
              "<table border=\"1\" class=\"dataframe\">\n",
              "  <thead>\n",
              "    <tr style=\"text-align: right;\">\n",
              "      <th></th>\n",
              "      <th>DroughtExperienced</th>\n",
              "    </tr>\n",
              "  </thead>\n",
              "  <tbody>\n",
              "    <tr>\n",
              "      <th>4417</th>\n",
              "      <td>1</td>\n",
              "    </tr>\n",
              "    <tr>\n",
              "      <th>1538</th>\n",
              "      <td>0</td>\n",
              "    </tr>\n",
              "    <tr>\n",
              "      <th>315</th>\n",
              "      <td>0</td>\n",
              "    </tr>\n",
              "    <tr>\n",
              "      <th>297</th>\n",
              "      <td>0</td>\n",
              "    </tr>\n",
              "    <tr>\n",
              "      <th>4946</th>\n",
              "      <td>1</td>\n",
              "    </tr>\n",
              "    <tr>\n",
              "      <th>...</th>\n",
              "      <td>...</td>\n",
              "    </tr>\n",
              "    <tr>\n",
              "      <th>75</th>\n",
              "      <td>0</td>\n",
              "    </tr>\n",
              "    <tr>\n",
              "      <th>1776</th>\n",
              "      <td>0</td>\n",
              "    </tr>\n",
              "    <tr>\n",
              "      <th>2981</th>\n",
              "      <td>1</td>\n",
              "    </tr>\n",
              "    <tr>\n",
              "      <th>3648</th>\n",
              "      <td>1</td>\n",
              "    </tr>\n",
              "    <tr>\n",
              "      <th>3895</th>\n",
              "      <td>1</td>\n",
              "    </tr>\n",
              "  </tbody>\n",
              "</table>\n",
              "<p>1084 rows × 1 columns</p>\n",
              "</div>\n",
              "      <button class=\"colab-df-convert\" onclick=\"convertToInteractive('df-1af74667-0ea6-47ce-8017-94be8e656fdf')\"\n",
              "              title=\"Convert this dataframe to an interactive table.\"\n",
              "              style=\"display:none;\">\n",
              "        \n",
              "  <svg xmlns=\"http://www.w3.org/2000/svg\" height=\"24px\"viewBox=\"0 0 24 24\"\n",
              "       width=\"24px\">\n",
              "    <path d=\"M0 0h24v24H0V0z\" fill=\"none\"/>\n",
              "    <path d=\"M18.56 5.44l.94 2.06.94-2.06 2.06-.94-2.06-.94-.94-2.06-.94 2.06-2.06.94zm-11 1L8.5 8.5l.94-2.06 2.06-.94-2.06-.94L8.5 2.5l-.94 2.06-2.06.94zm10 10l.94 2.06.94-2.06 2.06-.94-2.06-.94-.94-2.06-.94 2.06-2.06.94z\"/><path d=\"M17.41 7.96l-1.37-1.37c-.4-.4-.92-.59-1.43-.59-.52 0-1.04.2-1.43.59L10.3 9.45l-7.72 7.72c-.78.78-.78 2.05 0 2.83L4 21.41c.39.39.9.59 1.41.59.51 0 1.02-.2 1.41-.59l7.78-7.78 2.81-2.81c.8-.78.8-2.07 0-2.86zM5.41 20L4 18.59l7.72-7.72 1.47 1.35L5.41 20z\"/>\n",
              "  </svg>\n",
              "      </button>\n",
              "      \n",
              "  <style>\n",
              "    .colab-df-container {\n",
              "      display:flex;\n",
              "      flex-wrap:wrap;\n",
              "      gap: 12px;\n",
              "    }\n",
              "\n",
              "    .colab-df-convert {\n",
              "      background-color: #E8F0FE;\n",
              "      border: none;\n",
              "      border-radius: 50%;\n",
              "      cursor: pointer;\n",
              "      display: none;\n",
              "      fill: #1967D2;\n",
              "      height: 32px;\n",
              "      padding: 0 0 0 0;\n",
              "      width: 32px;\n",
              "    }\n",
              "\n",
              "    .colab-df-convert:hover {\n",
              "      background-color: #E2EBFA;\n",
              "      box-shadow: 0px 1px 2px rgba(60, 64, 67, 0.3), 0px 1px 3px 1px rgba(60, 64, 67, 0.15);\n",
              "      fill: #174EA6;\n",
              "    }\n",
              "\n",
              "    [theme=dark] .colab-df-convert {\n",
              "      background-color: #3B4455;\n",
              "      fill: #D2E3FC;\n",
              "    }\n",
              "\n",
              "    [theme=dark] .colab-df-convert:hover {\n",
              "      background-color: #434B5C;\n",
              "      box-shadow: 0px 1px 3px 1px rgba(0, 0, 0, 0.15);\n",
              "      filter: drop-shadow(0px 1px 2px rgba(0, 0, 0, 0.3));\n",
              "      fill: #FFFFFF;\n",
              "    }\n",
              "  </style>\n",
              "\n",
              "      <script>\n",
              "        const buttonEl =\n",
              "          document.querySelector('#df-1af74667-0ea6-47ce-8017-94be8e656fdf button.colab-df-convert');\n",
              "        buttonEl.style.display =\n",
              "          google.colab.kernel.accessAllowed ? 'block' : 'none';\n",
              "\n",
              "        async function convertToInteractive(key) {\n",
              "          const element = document.querySelector('#df-1af74667-0ea6-47ce-8017-94be8e656fdf');\n",
              "          const dataTable =\n",
              "            await google.colab.kernel.invokeFunction('convertToInteractive',\n",
              "                                                     [key], {});\n",
              "          if (!dataTable) return;\n",
              "\n",
              "          const docLinkHtml = 'Like what you see? Visit the ' +\n",
              "            '<a target=\"_blank\" href=https://colab.research.google.com/notebooks/data_table.ipynb>data table notebook</a>'\n",
              "            + ' to learn more about interactive tables.';\n",
              "          element.innerHTML = '';\n",
              "          dataTable['output_type'] = 'display_data';\n",
              "          await google.colab.output.renderOutput(dataTable, element);\n",
              "          const docLink = document.createElement('div');\n",
              "          docLink.innerHTML = docLinkHtml;\n",
              "          element.appendChild(docLink);\n",
              "        }\n",
              "      </script>\n",
              "    </div>\n",
              "  </div>\n",
              "  "
            ]
          },
          "metadata": {},
          "execution_count": 28
        }
      ]
    },
    {
      "cell_type": "markdown",
      "source": [
        "# Random Forest - F1 = 0.978"
      ],
      "metadata": {
        "id": "2DsFyXkB1qWX"
      }
    },
    {
      "cell_type": "code",
      "source": [
        "from sklearn.ensemble import RandomForestClassifier\n",
        "\n",
        "forest_clf = RandomForestClassifier(random_state=42)\n",
        "\n",
        "forest_clf.fit(X_train, y_train)"
      ],
      "metadata": {
        "colab": {
          "base_uri": "https://localhost:8080/"
        },
        "id": "_8lygUNt1xLI",
        "outputId": "fc8599b9-73a9-471e-9457-ed85c98c20f0"
      },
      "execution_count": null,
      "outputs": [
        {
          "output_type": "stream",
          "name": "stderr",
          "text": [
            "/usr/local/lib/python3.7/dist-packages/ipykernel_launcher.py:5: DataConversionWarning: A column-vector y was passed when a 1d array was expected. Please change the shape of y to (n_samples,), for example using ravel().\n",
            "  \"\"\"\n"
          ]
        },
        {
          "output_type": "execute_result",
          "data": {
            "text/plain": [
              "RandomForestClassifier(random_state=42)"
            ]
          },
          "metadata": {},
          "execution_count": 29
        }
      ]
    },
    {
      "cell_type": "code",
      "source": [
        "from sklearn.model_selection import cross_val_predict\n",
        "\n",
        "y_train_pred = cross_val_predict(forest_clf, X_train, y_train, cv=3)"
      ],
      "metadata": {
        "colab": {
          "base_uri": "https://localhost:8080/"
        },
        "id": "QDkGQEcZ2oMn",
        "outputId": "2d08c83e-572e-4204-e8c1-f50bff32857b"
      },
      "execution_count": null,
      "outputs": [
        {
          "output_type": "stream",
          "name": "stderr",
          "text": [
            "/usr/local/lib/python3.7/dist-packages/sklearn/model_selection/_validation.py:1044: DataConversionWarning: A column-vector y was passed when a 1d array was expected. Please change the shape of y to (n_samples,), for example using ravel().\n",
            "  estimator.fit(X_train, y_train, **fit_params)\n",
            "/usr/local/lib/python3.7/dist-packages/sklearn/model_selection/_validation.py:1044: DataConversionWarning: A column-vector y was passed when a 1d array was expected. Please change the shape of y to (n_samples,), for example using ravel().\n",
            "  estimator.fit(X_train, y_train, **fit_params)\n",
            "/usr/local/lib/python3.7/dist-packages/sklearn/model_selection/_validation.py:1044: DataConversionWarning: A column-vector y was passed when a 1d array was expected. Please change the shape of y to (n_samples,), for example using ravel().\n",
            "  estimator.fit(X_train, y_train, **fit_params)\n"
          ]
        }
      ]
    },
    {
      "cell_type": "code",
      "source": [
        "from sklearn.metrics import confusion_matrix\n",
        "\n",
        "cm = confusion_matrix(y_train, y_train_pred)\n",
        "cm"
      ],
      "metadata": {
        "colab": {
          "base_uri": "https://localhost:8080/"
        },
        "id": "Rd97M9Ww3GuL",
        "outputId": "e2791ddc-ab23-413f-d43d-816864e51d1e"
      },
      "execution_count": null,
      "outputs": [
        {
          "output_type": "execute_result",
          "data": {
            "text/plain": [
              "array([[2099,   53],\n",
              "       [  44, 2140]])"
            ]
          },
          "metadata": {},
          "execution_count": 31
        }
      ]
    },
    {
      "cell_type": "markdown",
      "source": [
        "Cross validation F1 = 0.971"
      ],
      "metadata": {
        "id": "7BYToh7x9frM"
      }
    },
    {
      "cell_type": "code",
      "source": [
        "from sklearn.metrics import f1_score\n",
        "\n",
        "f1_score(y_train, y_train_pred)"
      ],
      "metadata": {
        "colab": {
          "base_uri": "https://localhost:8080/"
        },
        "id": "omsXwh6r3qg0",
        "outputId": "d1e25980-3bf7-44dc-e324-d9ff4f08a234"
      },
      "execution_count": null,
      "outputs": [
        {
          "output_type": "execute_result",
          "data": {
            "text/plain": [
              "0.9778387023075166"
            ]
          },
          "metadata": {},
          "execution_count": 32
        }
      ]
    },
    {
      "cell_type": "markdown",
      "source": [
        "Predict the test set - F1 = 0.978"
      ],
      "metadata": {
        "id": "xE8MTq359lVb"
      }
    },
    {
      "cell_type": "code",
      "source": [
        "y_test_pred = forest_clf.predict(X_test)"
      ],
      "metadata": {
        "id": "VLJzQFvSA0ko"
      },
      "execution_count": null,
      "outputs": []
    },
    {
      "cell_type": "code",
      "source": [
        "y_test_prob = forest_clf.predict_proba(X_test)"
      ],
      "metadata": {
        "id": "pM7STzQrhDRa"
      },
      "execution_count": null,
      "outputs": []
    },
    {
      "cell_type": "code",
      "source": [
        "cm = confusion_matrix(y_test, y_test_pred)"
      ],
      "metadata": {
        "id": "KIW_knsnBNtS"
      },
      "execution_count": null,
      "outputs": []
    },
    {
      "cell_type": "code",
      "source": [
        "cm"
      ],
      "metadata": {
        "colab": {
          "base_uri": "https://localhost:8080/"
        },
        "id": "zb-bUHnkBUIr",
        "outputId": "e2645f1f-96e8-447e-f6fe-6ab5e8531b82"
      },
      "execution_count": null,
      "outputs": [
        {
          "output_type": "execute_result",
          "data": {
            "text/plain": [
              "array([[549,   9],\n",
              "       [ 14, 512]])"
            ]
          },
          "metadata": {},
          "execution_count": 58
        }
      ]
    },
    {
      "cell_type": "code",
      "source": [
        "f1_score(y_test, y_test_pred)"
      ],
      "metadata": {
        "colab": {
          "base_uri": "https://localhost:8080/"
        },
        "id": "nhxmkTHP9tu3",
        "outputId": "11494843-39bb-48b7-ec59-4a6b1c446d58"
      },
      "execution_count": null,
      "outputs": [
        {
          "output_type": "execute_result",
          "data": {
            "text/plain": [
              "0.9780324737344793"
            ]
          },
          "metadata": {},
          "execution_count": 59
        }
      ]
    },
    {
      "cell_type": "code",
      "source": [
        "from sklearn.metrics import recall_score\n",
        "recall_score(y_test, y_test_pred)"
      ],
      "metadata": {
        "colab": {
          "base_uri": "https://localhost:8080/"
        },
        "id": "ehtEUktzt3yZ",
        "outputId": "867edc21-1c8b-4321-90e1-dd49c241ac14"
      },
      "execution_count": null,
      "outputs": [
        {
          "output_type": "execute_result",
          "data": {
            "text/plain": [
              "0.973384030418251"
            ]
          },
          "metadata": {},
          "execution_count": 60
        }
      ]
    },
    {
      "cell_type": "markdown",
      "source": [
        "#  Predict the entire set - F1 = 0.935"
      ],
      "metadata": {
        "id": "7RoV2n29Ba3i"
      }
    },
    {
      "cell_type": "code",
      "source": [
        "data_prepared"
      ],
      "metadata": {
        "colab": {
          "base_uri": "https://localhost:8080/"
        },
        "id": "n_LouhJd263a",
        "outputId": "9eed028c-3773-4124-c730-c1838fce8ba3"
      },
      "execution_count": null,
      "outputs": [
        {
          "output_type": "execute_result",
          "data": {
            "text/plain": [
              "<2866x476 sparse matrix of type '<class 'numpy.float64'>'\n",
              "\twith 83114 stored elements in Compressed Sparse Row format>"
            ]
          },
          "metadata": {},
          "execution_count": 38
        }
      ]
    },
    {
      "cell_type": "code",
      "source": [
        "predictions = forest_clf.predict(data_prepared)"
      ],
      "metadata": {
        "id": "7N9DO6O_B9RT"
      },
      "execution_count": null,
      "outputs": []
    },
    {
      "cell_type": "code",
      "source": [
        "probabilities = forest_clf.predict_proba(data_prepared)"
      ],
      "metadata": {
        "id": "tC-br2RZao4K"
      },
      "execution_count": null,
      "outputs": []
    },
    {
      "cell_type": "code",
      "source": [
        "cm = confusion_matrix(data_labels, predictions)\n",
        "cm"
      ],
      "metadata": {
        "colab": {
          "base_uri": "https://localhost:8080/"
        },
        "id": "mWXQPPxSCo8t",
        "outputId": "98c40774-0820-4d46-8acf-b3965599d80d"
      },
      "execution_count": null,
      "outputs": [
        {
          "output_type": "execute_result",
          "data": {
            "text/plain": [
              "array([[2701,    9],\n",
              "       [  11,  145]])"
            ]
          },
          "metadata": {},
          "execution_count": 41
        }
      ]
    },
    {
      "cell_type": "code",
      "source": [
        "#from sklearn.metrics import recall_score\n",
        "recall_score(data_labels, predictions)"
      ],
      "metadata": {
        "colab": {
          "base_uri": "https://localhost:8080/"
        },
        "id": "bGae2JQLmfKw",
        "outputId": "e6980233-b6b6-4d2a-aee2-1b94e5cf08ef"
      },
      "execution_count": null,
      "outputs": [
        {
          "output_type": "execute_result",
          "data": {
            "text/plain": [
              "0.9294871794871795"
            ]
          },
          "metadata": {},
          "execution_count": 42
        }
      ]
    },
    {
      "cell_type": "code",
      "source": [
        "f1_score(data_labels, predictions)"
      ],
      "metadata": {
        "colab": {
          "base_uri": "https://localhost:8080/"
        },
        "id": "_Uxqo66l-S9e",
        "outputId": "94178f86-ac76-45ee-a488-eeaae103fb3b"
      },
      "execution_count": null,
      "outputs": [
        {
          "output_type": "execute_result",
          "data": {
            "text/plain": [
              "0.9354838709677419"
            ]
          },
          "metadata": {},
          "execution_count": 43
        }
      ]
    },
    {
      "cell_type": "code",
      "source": [
        "data_labels"
      ],
      "metadata": {
        "colab": {
          "base_uri": "https://localhost:8080/"
        },
        "id": "l40D87ypDvvL",
        "outputId": "a746b430-5a69-4db5-9d79-c1914f678778"
      },
      "execution_count": null,
      "outputs": [
        {
          "output_type": "execute_result",
          "data": {
            "text/plain": [
              "0       0\n",
              "1       0\n",
              "2       0\n",
              "3       0\n",
              "4       0\n",
              "       ..\n",
              "2861    0\n",
              "2862    0\n",
              "2863    0\n",
              "2864    0\n",
              "2865    0\n",
              "Name: DroughtExperienced, Length: 2866, dtype: int64"
            ]
          },
          "metadata": {},
          "execution_count": 44
        }
      ]
    },
    {
      "cell_type": "code",
      "source": [
        "predictions"
      ],
      "metadata": {
        "colab": {
          "base_uri": "https://localhost:8080/"
        },
        "id": "k4vMU1pYEBih",
        "outputId": "7f5e9811-1a5c-4493-ba4e-a0323d9e3229"
      },
      "execution_count": null,
      "outputs": [
        {
          "output_type": "execute_result",
          "data": {
            "text/plain": [
              "array([0, 0, 0, ..., 0, 0, 0])"
            ]
          },
          "metadata": {},
          "execution_count": 45
        }
      ]
    },
    {
      "cell_type": "code",
      "source": [
        "predictions.shape"
      ],
      "metadata": {
        "colab": {
          "base_uri": "https://localhost:8080/"
        },
        "id": "vZyr5QreGp3B",
        "outputId": "e48f4fc6-eba0-47bf-f069-ca003397aae5"
      },
      "execution_count": null,
      "outputs": [
        {
          "output_type": "execute_result",
          "data": {
            "text/plain": [
              "(2866,)"
            ]
          },
          "metadata": {},
          "execution_count": 46
        }
      ]
    },
    {
      "cell_type": "code",
      "source": [
        "data.shape"
      ],
      "metadata": {
        "colab": {
          "base_uri": "https://localhost:8080/"
        },
        "id": "P8eN-AIFG2tn",
        "outputId": "765ac9f5-17e6-4cbd-ffda-9489d9b046e6"
      },
      "execution_count": null,
      "outputs": [
        {
          "output_type": "execute_result",
          "data": {
            "text/plain": [
              "(2866, 29)"
            ]
          },
          "metadata": {},
          "execution_count": 47
        }
      ]
    },
    {
      "cell_type": "code",
      "source": [
        "data.info()"
      ],
      "metadata": {
        "colab": {
          "base_uri": "https://localhost:8080/"
        },
        "id": "8fHpAVcxNZdk",
        "outputId": "e971f2fe-0dea-45b7-eda6-9e649ceacf5d"
      },
      "execution_count": null,
      "outputs": [
        {
          "output_type": "stream",
          "name": "stdout",
          "text": [
            "<class 'pandas.core.frame.DataFrame'>\n",
            "RangeIndex: 2866 entries, 0 to 2865\n",
            "Data columns (total 29 columns):\n",
            " #   Column                                       Non-Null Count  Dtype  \n",
            "---  ------                                       --------------  -----  \n",
            " 0   ServiceConnections                           2866 non-null   int64  \n",
            " 1   Population                                   2866 non-null   int64  \n",
            " 2   Score_SourceNumber                           2866 non-null   float64\n",
            " 3   Score_SourceCapacityViolations               2866 non-null   object \n",
            " 4   Score_SCM                                    2866 non-null   object \n",
            " 5   Score_CriticallyOverdraftedGroundwaterBasin  2866 non-null   object \n",
            " 6   CDAG_rank                                    2866 non-null   int64  \n",
            " 7   Curtailment                                  2866 non-null   object \n",
            " 8   Score_1702                                   2866 non-null   int64  \n",
            " 9   Score_1705                                   2866 non-null   int64  \n",
            " 10  Score_1706                                   2866 non-null   int64  \n",
            " 11  Score_1812                                   2866 non-null   int64  \n",
            " 12  Score_1813                                   2866 non-null   int64  \n",
            " 13  Score_1814                                   2866 non-null   int64  \n",
            " 14  Score_1815                                   2866 non-null   int64  \n",
            " 15  EAR2020DroughtRiskScore                      2866 non-null   int64  \n",
            " 16  SAFER_AccessibilityScore                     2866 non-null   float64\n",
            " 17  Lat                                          2866 non-null   float64\n",
            " 18  Long                                         2866 non-null   float64\n",
            " 19  County                                       2866 non-null   object \n",
            " 20  3Y_DSCI                                      2866 non-null   float64\n",
            " 21  ActiveGWSource                               2866 non-null   int64  \n",
            " 22  ActiveSWSource                               2866 non-null   int64  \n",
            " 23  CurtailedWatershed                           2866 non-null   object \n",
            " 24  HUC8                                         2866 non-null   object \n",
            " 25  Basin_Number_part1                           2866 non-null   object \n",
            " 26  FracturedRock                                2866 non-null   object \n",
            " 27  Basin                                        2866 non-null   object \n",
            " 28  Intertie                                     2866 non-null   object \n",
            "dtypes: float64(5), int64(13), object(11)\n",
            "memory usage: 649.5+ KB\n"
          ]
        }
      ]
    },
    {
      "cell_type": "code",
      "source": [
        "probabilities.shape"
      ],
      "metadata": {
        "colab": {
          "base_uri": "https://localhost:8080/"
        },
        "id": "FANmEJQIbmD1",
        "outputId": "66a45c0c-28f5-49de-8138-69a46ee2fcf9"
      },
      "execution_count": null,
      "outputs": [
        {
          "output_type": "execute_result",
          "data": {
            "text/plain": [
              "(2866, 2)"
            ]
          },
          "metadata": {},
          "execution_count": 49
        }
      ]
    },
    {
      "cell_type": "code",
      "source": [
        "probabilities"
      ],
      "metadata": {
        "colab": {
          "base_uri": "https://localhost:8080/"
        },
        "id": "XIan5OCJcDel",
        "outputId": "61532b91-b57d-42ab-b490-522985739b56"
      },
      "execution_count": null,
      "outputs": [
        {
          "output_type": "execute_result",
          "data": {
            "text/plain": [
              "array([[0.99, 0.01],\n",
              "       [1.  , 0.  ],\n",
              "       [0.98, 0.02],\n",
              "       ...,\n",
              "       [0.97, 0.03],\n",
              "       [0.9 , 0.1 ],\n",
              "       [0.99, 0.01]])"
            ]
          },
          "metadata": {},
          "execution_count": 50
        }
      ]
    },
    {
      "cell_type": "code",
      "source": [
        "s1 = pd.DataFrame(predictions)\n",
        "s1.index = data.index # its important for comparison\n",
        "s1.columns = [\"MyPredictions\"]\n",
        "s2 = pd.DataFrame(probabilities)\n",
        "s2.index = data.index # its important for comparison\n",
        "s2.columns = [\"Prob_A\",\"Prob_B\"]\n",
        "results = pd.concat([data, s1, s2], axis=1)"
      ],
      "metadata": {
        "id": "1c0VTt8CTE02"
      },
      "execution_count": null,
      "outputs": []
    },
    {
      "cell_type": "code",
      "source": [
        "results.info()"
      ],
      "metadata": {
        "colab": {
          "base_uri": "https://localhost:8080/"
        },
        "id": "7U29WWLgTw1h",
        "outputId": "19729095-69de-416d-82fd-914b747ac4a9"
      },
      "execution_count": null,
      "outputs": [
        {
          "output_type": "stream",
          "name": "stdout",
          "text": [
            "<class 'pandas.core.frame.DataFrame'>\n",
            "RangeIndex: 2866 entries, 0 to 2865\n",
            "Data columns (total 32 columns):\n",
            " #   Column                                       Non-Null Count  Dtype  \n",
            "---  ------                                       --------------  -----  \n",
            " 0   ServiceConnections                           2866 non-null   int64  \n",
            " 1   Population                                   2866 non-null   int64  \n",
            " 2   Score_SourceNumber                           2866 non-null   float64\n",
            " 3   Score_SourceCapacityViolations               2866 non-null   object \n",
            " 4   Score_SCM                                    2866 non-null   object \n",
            " 5   Score_CriticallyOverdraftedGroundwaterBasin  2866 non-null   object \n",
            " 6   CDAG_rank                                    2866 non-null   int64  \n",
            " 7   Curtailment                                  2866 non-null   object \n",
            " 8   Score_1702                                   2866 non-null   int64  \n",
            " 9   Score_1705                                   2866 non-null   int64  \n",
            " 10  Score_1706                                   2866 non-null   int64  \n",
            " 11  Score_1812                                   2866 non-null   int64  \n",
            " 12  Score_1813                                   2866 non-null   int64  \n",
            " 13  Score_1814                                   2866 non-null   int64  \n",
            " 14  Score_1815                                   2866 non-null   int64  \n",
            " 15  EAR2020DroughtRiskScore                      2866 non-null   int64  \n",
            " 16  SAFER_AccessibilityScore                     2866 non-null   float64\n",
            " 17  Lat                                          2866 non-null   float64\n",
            " 18  Long                                         2866 non-null   float64\n",
            " 19  County                                       2866 non-null   object \n",
            " 20  3Y_DSCI                                      2866 non-null   float64\n",
            " 21  ActiveGWSource                               2866 non-null   int64  \n",
            " 22  ActiveSWSource                               2866 non-null   int64  \n",
            " 23  CurtailedWatershed                           2866 non-null   object \n",
            " 24  HUC8                                         2866 non-null   object \n",
            " 25  Basin_Number_part1                           2866 non-null   object \n",
            " 26  FracturedRock                                2866 non-null   object \n",
            " 27  Basin                                        2866 non-null   object \n",
            " 28  Intertie                                     2866 non-null   object \n",
            " 29  MyPredictions                                2866 non-null   int64  \n",
            " 30  Prob_A                                       2866 non-null   float64\n",
            " 31  Prob_B                                       2866 non-null   float64\n",
            "dtypes: float64(7), int64(14), object(11)\n",
            "memory usage: 716.6+ KB\n"
          ]
        }
      ]
    },
    {
      "cell_type": "code",
      "source": [
        "results.to_csv(\"RF_prediction_results.csv\")"
      ],
      "metadata": {
        "id": "AwocP34xWcTX"
      },
      "execution_count": null,
      "outputs": []
    },
    {
      "cell_type": "code",
      "source": [
        "from google.colab import files\n",
        "files.download(\"RF_prediction_results.csv\")"
      ],
      "metadata": {
        "colab": {
          "base_uri": "https://localhost:8080/",
          "height": 17
        },
        "id": "ljpkNEP3WxEA",
        "outputId": "fe945169-c9d7-4665-fb45-bab2470dcc4d"
      },
      "execution_count": null,
      "outputs": [
        {
          "output_type": "display_data",
          "data": {
            "text/plain": [
              "<IPython.core.display.Javascript object>"
            ],
            "application/javascript": [
              "\n",
              "    async function download(id, filename, size) {\n",
              "      if (!google.colab.kernel.accessAllowed) {\n",
              "        return;\n",
              "      }\n",
              "      const div = document.createElement('div');\n",
              "      const label = document.createElement('label');\n",
              "      label.textContent = `Downloading \"${filename}\": `;\n",
              "      div.appendChild(label);\n",
              "      const progress = document.createElement('progress');\n",
              "      progress.max = size;\n",
              "      div.appendChild(progress);\n",
              "      document.body.appendChild(div);\n",
              "\n",
              "      const buffers = [];\n",
              "      let downloaded = 0;\n",
              "\n",
              "      const channel = await google.colab.kernel.comms.open(id);\n",
              "      // Send a message to notify the kernel that we're ready.\n",
              "      channel.send({})\n",
              "\n",
              "      for await (const message of channel.messages) {\n",
              "        // Send a message to notify the kernel that we're ready.\n",
              "        channel.send({})\n",
              "        if (message.buffers) {\n",
              "          for (const buffer of message.buffers) {\n",
              "            buffers.push(buffer);\n",
              "            downloaded += buffer.byteLength;\n",
              "            progress.value = downloaded;\n",
              "          }\n",
              "        }\n",
              "      }\n",
              "      const blob = new Blob(buffers, {type: 'application/binary'});\n",
              "      const a = document.createElement('a');\n",
              "      a.href = window.URL.createObjectURL(blob);\n",
              "      a.download = filename;\n",
              "      div.appendChild(a);\n",
              "      a.click();\n",
              "      div.remove();\n",
              "    }\n",
              "  "
            ]
          },
          "metadata": {}
        },
        {
          "output_type": "display_data",
          "data": {
            "text/plain": [
              "<IPython.core.display.Javascript object>"
            ],
            "application/javascript": [
              "download(\"download_68c792c0-88b8-4596-ac45-ce0d1e90e765\", \"RF_prediction_results.csv\", 476557)"
            ]
          },
          "metadata": {}
        }
      ]
    }
  ]
}